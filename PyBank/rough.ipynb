{
 "cells": [
  {
   "cell_type": "code",
   "execution_count": 138,
   "id": "bbc9fb2b-3b28-4f2f-9557-32c63b7ff48d",
   "metadata": {},
   "outputs": [
    {
     "name": "stdout",
     "output_type": "stream",
     "text": [
      "Financial Analysis\n",
      "----------------------------------------\n",
      "Total Months: 86\n",
      "Total: $22564198\n",
      "Average Change: 262374\n",
      "Greatest Increase in Profits: Mar-13 $1141840\n",
      "Greatest Decrease in Profits: Dec-10 $-1194133\n"
     ]
    }
   ],
   "source": [
    "import os\n",
    "import csv\n",
    "\n",
    "file = os.path.join(\"..\",\"PyBank\",\"budget_data.csv\")\n",
    "# Previewing report.\n",
    "print(\"Financial Analysis\")\n",
    "print(\"----------------------------------------\")\n",
    "with open(file) as budget_data:\n",
    "    # Things below this are in the right place. Stop touching them...\n",
    "    budget = csv.reader(budget_data, delimiter = \",\")\n",
    "    budget_header = next(budget_data)\n",
    "    length = 0\n",
    "    total = 0\n",
    "    greatest_profit = 0\n",
    "    greatest_losses = 0\n",
    "    for row in budget:\n",
    "        # Total months\n",
    "        length += 1\n",
    "        # Total profits.\n",
    "        total += int(row[1])\n",
    "        # Average Change.\n",
    "        average = round(total / length)\n",
    "        # Greatest profits.\n",
    "        if int(row[1]) >= greatest_profit:\n",
    "            greatest_profit = int(row[1])\n",
    "            profit_month = str(row[0])\n",
    "        # Greatest losses.\n",
    "        if int(row[1]) <= greatest_losses:\n",
    "            greatest_losses = int(row[1])\n",
    "            loss_month = str(row[0])\n",
    "    print(f\"Total Months: {length}\")\n",
    "    print(f\"Total: ${total}\")\n",
    "    print(f\"Average Change: {average}\")\n",
    "    print(f\"Greatest Increase in Profits: {profit_month} ${greatest_profit}\")\n",
    "    print(f\"Greatest Decrease in Profits: {loss_month} ${greatest_losses}\")\n",
    "# Generating text report.\n",
    "txt = os.path.join(\"..\",\"PyBank\",\"analysis.txt\")\n",
    "with open(txt,\"w\") as analysis_report:\n",
    "    analysis_report.write(\n",
    "        \"Financial Analysis \\n\"\n",
    "        \"---------------------------------------- \\n\"\n",
    "        f\"Total Months: {length} \\n\"\n",
    "        f\"Total: ${total} \\n\"\n",
    "        f\"Average Change: {average} \\n\"\n",
    "        f\"Greatest Increase in Profits: {profit_month} ${greatest_profit} \\n\"\n",
    "        f\"Greatest Decrease in Profits: {loss_month} ${greatest_losses} \\n\"\n",
    "    )\n",
    "    "
   ]
  },
  {
   "cell_type": "code",
   "execution_count": null,
   "id": "4bb901af-f559-4016-a97f-7de3a90d7ba2",
   "metadata": {},
   "outputs": [],
   "source": []
  }
 ],
 "metadata": {
  "kernelspec": {
   "display_name": "Python 3 (ipykernel)",
   "language": "python",
   "name": "python3"
  },
  "language_info": {
   "codemirror_mode": {
    "name": "ipython",
    "version": 3
   },
   "file_extension": ".py",
   "mimetype": "text/x-python",
   "name": "python",
   "nbconvert_exporter": "python",
   "pygments_lexer": "ipython3",
   "version": "3.10.14"
  }
 },
 "nbformat": 4,
 "nbformat_minor": 5
}

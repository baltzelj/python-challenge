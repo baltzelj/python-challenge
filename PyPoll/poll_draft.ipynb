{
 "cells": [
  {
   "cell_type": "code",
   "execution_count": 8,
   "id": "5de171a4-bd79-4337-b6a4-f50d719abdaa",
   "metadata": {},
   "outputs": [
    {
     "name": "stdout",
     "output_type": "stream",
     "text": [
      "Election Results\n",
      "-----------------------------\n",
      "Total Votes: 369711\n",
      "-----------------------------\n",
      "{'Charles Casper Stockham': 85213, 'Diana DeGette': 272892, 'Raymon Anthony Doane': 11606}\n",
      "dict_keys(['Charles Casper Stockham', 'Diana DeGette', 'Raymon Anthony Doane'])\n",
      "dict_values([85213, 272892, 11606])\n"
     ]
    }
   ],
   "source": [
    "import os\n",
    "import csv\n",
    "\n",
    "# dictionary designed to review dictionary and increment votes.\n",
    "def new_candidate(dictionary, candidate):\n",
    "    if candidate not in dictionary:\n",
    "        dictionary[candidate] = 1\n",
    "    else:\n",
    "        dictionary[candidate] = dictionary[candidate] + 1\n",
    "\n",
    "file = os.path.join(\"..\",\"PyPoll\",\"election_data.csv\")\n",
    "print(\"Election Results\")\n",
    "print(\"-----------------------------\")\n",
    "total_votes = 0\n",
    "candidates = {}\n",
    "with open(file) as election_data:\n",
    "    polls = csv.reader(election_data, delimiter=\",\")\n",
    "    header = next(election_data)\n",
    "    for row in polls:\n",
    "        # calculating total votes.\n",
    "        total_votes += 1\n",
    "        # add vote to candidate vote value.\n",
    "        candidate = row[2]\n",
    "        new_candidate(candidates,candidate)\n",
    "    print(f\"Total Votes: {total_votes}\")\n",
    "    print(\"-----------------------------\")\n",
    "    # print unique candidates, percent of votes, total votes.\n",
    "    print(candidates)\n",
    "    print(candidates.keys())\n",
    "    print(candidates.values())"
   ]
  },
  {
   "cell_type": "code",
   "execution_count": null,
   "id": "10157efc-cade-4d55-8714-04241bc1f386",
   "metadata": {},
   "outputs": [],
   "source": []
  }
 ],
 "metadata": {
  "kernelspec": {
   "display_name": "Python 3 (ipykernel)",
   "language": "python",
   "name": "python3"
  },
  "language_info": {
   "codemirror_mode": {
    "name": "ipython",
    "version": 3
   },
   "file_extension": ".py",
   "mimetype": "text/x-python",
   "name": "python",
   "nbconvert_exporter": "python",
   "pygments_lexer": "ipython3",
   "version": "3.11.7"
  }
 },
 "nbformat": 4,
 "nbformat_minor": 5
}

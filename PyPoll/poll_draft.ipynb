{
 "cells": [
  {
   "cell_type": "code",
   "execution_count": 114,
   "id": "5de171a4-bd79-4337-b6a4-f50d719abdaa",
   "metadata": {},
   "outputs": [
    {
     "name": "stdout",
     "output_type": "stream",
     "text": [
      "Election Results\n",
      "-----------------------------\n",
      "Total Votes: 369711\n",
      "-----------------------------\n",
      "Charles Casper Stockham: 23.049% (85213)\n",
      "Diana DeGette: 73.812% (272892)\n",
      "Raymon Anthony Doane: 3.139% (11606)\n",
      "-----------------------------\n",
      "Winner: Diana DeGette\n"
     ]
    }
   ],
   "source": [
    "import os\n",
    "import csv\n",
    "# functions and dictionaries.\n",
    "def candidate_votes(dictionary, candidate):\n",
    "    if candidate not in dictionary:\n",
    "        dictionary[candidate] = 1\n",
    "    else:\n",
    "        dictionary[candidate] = dictionary[candidate] + 1\n",
    "def voting_printout(dictionary):\n",
    "    print(\n",
    "        f\"Election Results\\n\"\n",
    "        \"-----------------------------\\n\"\n",
    "        f\"Total Votes: {total_votes}\\n\"\n",
    "        \"-----------------------------\"\n",
    "         )\n",
    "    for candidate, votes in dictionary.items():\n",
    "        print(f\"{candidate}: {round(votes/total_votes*100,3)}% ({votes})\")\n",
    "    print(\n",
    "        f\"-----------------------------\\n\"\n",
    "        f\"Winner: {elect}\"\n",
    "        )\n",
    "# dictionaries and pre-set variables for use throughout the code.\n",
    "candidates = {}\n",
    "total_votes = 0\n",
    "winner_votes = 0\n",
    "# setting up file path.\n",
    "polls_data = os.path.join(\"..\",\"PyPoll\",\"election_data.csv\")\n",
    "with open(polls_data) as election_data:\n",
    "    polls = csv.reader(election_data, delimiter=\",\")\n",
    "    header = next(election_data)\n",
    "    # calculating total number of votes cast.\n",
    "    for row in polls:\n",
    "        total_votes += 1\n",
    "        candidate_votes(candidates,row[2])\n",
    "    # identifying the winner of the election.\n",
    "    for key, value in candidates.items():\n",
    "        if value > winner_votes:\n",
    "            winner_votes = value\n",
    "            winner_elect = key\n",
    "    voting_printout(candidates)\n",
    "# writing to text file.\n",
    "poll_report = os.path.join(\"..\",\"PyPoll\",\"analysis.txt\")\n",
    "with open(poll_report, \"w\") as analysis_report:\n",
    "    analysis_report.write(\n",
    "        f\"Election Results\\n\"\n",
    "        \"-----------------------------\\n\"\n",
    "        f\"Total Votes: {total_votes}\\n\"\n",
    "        \"-----------------------------\\n\"\n",
    "    )\n",
    "    for candidate, votes in candidates.items():\n",
    "        analysis_report.write(f\"{candidate}: {round(votes/total_votes*100,3)}% ({votes})\\n\")\n",
    "    analysis_report.write(\n",
    "        f\"-----------------------------\\n\"\n",
    "        f\"Winner: {elect}\"\n",
    "    )"
   ]
  },
  {
   "cell_type": "code",
   "execution_count": null,
   "id": "8a309fc1-862d-4084-9dbd-eebd9776c40a",
   "metadata": {},
   "outputs": [],
   "source": []
  }
 ],
 "metadata": {
  "kernelspec": {
   "display_name": "Python 3 (ipykernel)",
   "language": "python",
   "name": "python3"
  },
  "language_info": {
   "codemirror_mode": {
    "name": "ipython",
    "version": 3
   },
   "file_extension": ".py",
   "mimetype": "text/x-python",
   "name": "python",
   "nbconvert_exporter": "python",
   "pygments_lexer": "ipython3",
   "version": "3.11.7"
  }
 },
 "nbformat": 4,
 "nbformat_minor": 5
}
